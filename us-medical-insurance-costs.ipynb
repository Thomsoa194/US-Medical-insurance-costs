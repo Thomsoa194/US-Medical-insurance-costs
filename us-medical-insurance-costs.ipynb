{
 "cells": [
  {
   "cell_type": "markdown",
   "metadata": {},
   "source": [
    "# U.S. Medical Insurance Costs"
   ]
  },
  {
   "cell_type": "markdown",
   "metadata": {},
   "source": [
    "# Scope analysis\n",
    "### Find out the average age of the patients in the data set.\n",
    "### Analyze where the majority of the patients are from\n",
    "### Look at the different costs between smokers and non smokers\n",
    "### Figure out the average cost for someone who has at least one child in this dataset. \n",
    "### Figure out the average age for someone who has at least one child in this dataset.\n",
    "### The average cost of medical insurance by region.\n",
    "### The difference in the average cost between male and female patients\n"
   ]
  },
  {
   "cell_type": "code",
   "execution_count": 2,
   "metadata": {},
   "outputs": [],
   "source": [
    "import csv"
   ]
  },
  {
   "cell_type": "code",
   "execution_count": 198,
   "metadata": {},
   "outputs": [
    {
     "name": "stdout",
     "output_type": "stream",
     "text": [
      "39.20702541106129\n",
      "325 324 325 364\n",
      "Counter({'southeast': 364, 'southwest': 325, 'northwest': 325, 'northeast': 324})\n"
     ]
    }
   ],
   "source": [
    "ages = []\n",
    "regions = []\n",
    "charges = []\n",
    "sex = []\n",
    "with open('insurance.csv', 'r') as insurance_obj:\n",
    "    insurance = csv.DictReader(insurance_obj)\n",
    "    for row in insurance:\n",
    "        age_row = row\n",
    "        ages.append(age_row['age'])\n",
    "        regions.append(age_row['region'])\n",
    "        charges.append(age_row['charges'])\n",
    "        sex.append(age_row['sex'])\n",
    "        \n",
    "\n",
    "# Find out the average age of the patients in the data set. \n",
    "# 1. Find out the number of ages\n",
    "len(ages)\n",
    "# Divide the sum of the ages by the num of ages \n",
    "total_ages = 0\n",
    "for age in ages:\n",
    "    age = int(age)\n",
    "    total_ages += age\n",
    "\n",
    "average_age = total_ages / len(ages)\n",
    "print(average_age)\n",
    "Northwest_count = regions.count('northwest')\n",
    "Northeast_count = regions.count('northeast')\n",
    "Southwest_count = regions.count('southwest')\n",
    "Southeast_count = regions.count('southeast')\n",
    "print(Northwest_count, Northeast_count, Southwest_count, Southeast_count)\n",
    "\n",
    "from collections import Counter\n",
    "region_num_dict = Counter(regions)\n",
    "print(region_num_dict)\n"
   ]
  },
  {
   "cell_type": "code",
   "execution_count": 84,
   "metadata": {},
   "outputs": [
    {
     "name": "stdout",
     "output_type": "stream",
     "text": [
      "23615.96353367665\n"
     ]
    }
   ],
   "source": [
    "smokers = []\n",
    "non_smokers = []\n",
    "with open('insurance.csv', 'r') as insurance_obj:\n",
    "    insurance = csv.DictReader(insurance_obj)\n",
    "    for row in insurance:\n",
    "        if row['smoker'] == 'yes':\n",
    "            smokers.append(row)\n",
    "        else: non_smokers.append(row)\n",
    "\n",
    "def average_smoker_cost(smokers):\n",
    "    num_of_smokers = len(smokers)\n",
    "    smokers_total_charges = 0\n",
    "    for patient in smokers:\n",
    "        smokers_total_charges += float(patient['charges'])\n",
    "    return smokers_total_charges / num_of_smokers\n",
    "\n",
    "average_smoker_cost(smokers)\n",
    "\n",
    "def average_non_smoker_cost(non_smokers):\n",
    "    num_of_non_smokers = len(non_smokers)\n",
    "    non_smokers_total_charges = 0\n",
    "    for patient in non_smokers:\n",
    "        non_smokers_total_charges += float(patient['charges'])\n",
    "    \n",
    "    return non_smokers_total_charges / num_of_non_smokers\n",
    "    \n",
    "av_smoking_difference = average_smoker_cost(smokers) - average_non_smoker_cost(non_smokers)\n",
    "print(av_smoking_difference)"
   ]
  },
  {
   "cell_type": "code",
   "execution_count": 140,
   "metadata": {},
   "outputs": [],
   "source": [
    "one_or_more_children = []\n",
    "total_at_least_1 = 0\n",
    "import statistics\n",
    "with open('insurance.csv', 'r') as insurance_obj:\n",
    "    insurance = csv.DictReader(insurance_obj)\n",
    "    for row in insurance:\n",
    "        if int(row['children']) >= 1:\n",
    "            one_or_more_children.append(row)\n",
    "     \n",
    "def average_age_at_least_one_child(one_or_more_children):\n",
    "    ages_of_more_than_1 = []\n",
    "    for patient in one_or_more_children:\n",
    "        ages_of_more_than_1.append(float(patient['age'])) \n",
    "        age_of_patient_at_least_one = statistics.mean(ages_of_more_than_1)\n",
    "    return int(age_of_patient_at_least_one)\n",
    "\n"
   ]
  },
  {
   "cell_type": "code",
   "execution_count": 141,
   "metadata": {},
   "outputs": [
    {
     "name": "stdout",
     "output_type": "stream",
     "text": [
      "39\n"
     ]
    }
   ],
   "source": [
    "print(average_age_at_least_one_child(one_or_more_children))"
   ]
  },
  {
   "cell_type": "markdown",
   "metadata": {},
   "source": [
    "## Average cost of medical insurance by region "
   ]
  },
  {
   "cell_type": "code",
   "execution_count": 201,
   "metadata": {},
   "outputs": [],
   "source": [
    "\n",
    "regions_charges = [[key, value] for key, value in zip(regions, charges)]\n"
   ]
  },
  {
   "cell_type": "code",
   "execution_count": 196,
   "metadata": {},
   "outputs": [
    {
     "name": "stdout",
     "output_type": "stream",
     "text": [
      "{'Southwest': 12346.937377292308, 'Southeast': 14735.41143760989, 'Northwest': 12417.57537396923, 'Northeast': 13544.040468133267}\n",
      "Southeast\n"
     ]
    }
   ],
   "source": [
    "southwest_charges = []\n",
    "southeast_charges = []\n",
    "northwest_charges = []\n",
    "northeast_charges = []\n",
    "for item in regions_charges:\n",
    "    if item[0] == 'southwest':\n",
    "        southwest_charges.append(float(item[1]))\n",
    "    if item[0] == 'southeast':\n",
    "        southeast_charges.append(float(item[1]))\n",
    "    if item[0] == 'northwest':\n",
    "        northwest_charges.append(float(item[1]))\n",
    "    else: northeast_charges.append(float(item[1]))\n",
    "\n",
    "average_southwest = statistics.mean(southwest_charges)\n",
    "average_southeast = statistics.mean(southeast_charges)\n",
    "average_northwest = statistics.mean(northwest_charges)\n",
    "average_northeast = statistics.mean(northeast_charges)\n",
    "\n",
    "regions_dict = {}\n",
    "regions_dict['Southwest'] = average_southwest\n",
    "regions_dict['Southeast'] = average_southeast\n",
    "regions_dict['Northwest'] = average_northwest\n",
    "regions_dict['Northeast'] = average_northeast\n",
    "print(regions_dict)\n",
    "most_expensive_region = 'Northwest'\n",
    "for region in regions_dict:\n",
    "    if regions_dict[region] > regions_dict[most_expensive_region]:\n",
    "        most_expensive_region = region\n"
   ]
  },
  {
   "cell_type": "markdown",
   "metadata": {},
   "source": [
    "## The difference in the average cost between male and female patients"
   ]
  },
  {
   "cell_type": "code",
   "execution_count": 235,
   "metadata": {},
   "outputs": [],
   "source": [
    "charges_by_sex = [[key, value] for key, value in zip(sex, charges)]\n",
    "def average_by_sex(charges_by_sex):\n",
    "    males = []\n",
    "    females = []\n",
    "    for item in charges_by_sex:\n",
    "        if item[0] == 'male':\n",
    "            cost = float(item[1])\n",
    "            males.append(cost)\n",
    "        elif item[0] == 'female':\n",
    "            cost = float(item[1])\n",
    "            females.append(cost)\n",
    "    return males, females    \n",
    "            "
   ]
  },
  {
   "cell_type": "code",
   "execution_count": 241,
   "metadata": {},
   "outputs": [],
   "source": [
    "males, females = average_by_sex(charges_by_sex)\n",
    "average_male_cost = statistics.mean(males)\n",
    "average_female_cost = statistics.mean(females)"
   ]
  },
  {
   "cell_type": "code",
   "execution_count": 245,
   "metadata": {},
   "outputs": [],
   "source": [
    "difference_in_sex_cost = average_male_cost - average_female_cost"
   ]
  },
  {
   "cell_type": "code",
   "execution_count": 246,
   "metadata": {},
   "outputs": [
    {
     "name": "stdout",
     "output_type": "stream",
     "text": [
      "1387.1723338865468\n"
     ]
    }
   ],
   "source": [
    "print(difference_in_sex_cost)"
   ]
  },
  {
   "cell_type": "code",
   "execution_count": null,
   "metadata": {},
   "outputs": [],
   "source": []
  }
 ],
 "metadata": {
  "kernelspec": {
   "display_name": "Python 3",
   "language": "python",
   "name": "python3"
  },
  "language_info": {
   "codemirror_mode": {
    "name": "ipython",
    "version": 3
   },
   "file_extension": ".py",
   "mimetype": "text/x-python",
   "name": "python",
   "nbconvert_exporter": "python",
   "pygments_lexer": "ipython3",
   "version": "3.9.1"
  }
 },
 "nbformat": 4,
 "nbformat_minor": 4
}
